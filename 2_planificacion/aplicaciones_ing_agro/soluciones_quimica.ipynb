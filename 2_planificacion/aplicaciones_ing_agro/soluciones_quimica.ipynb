{
 "cells": [
  {
   "cell_type": "code",
   "execution_count": null,
   "metadata": {},
   "outputs": [],
   "source": []
  },
  {
   "cell_type": "code",
   "execution_count": null,
   "metadata": {},
   "outputs": [],
   "source": []
  },
  {
   "cell_type": "markdown",
   "metadata": {},
   "source": [
    "# Aplicaciones de la Geometría Vectorial "
   ]
  },
  {
   "cell_type": "markdown",
   "metadata": {},
   "source": [
    "Tres soluciones contienen cierto ácido.   \n",
    "\n",
    "La primera contiene $10\\%$ de ácido,  \n",
    "la segunda $30\\%$ y la terceran 50%.  \n",
    "\n",
    "Un químico desea usar las tres soluciones para obtener una mezcla de $50$ litros que contengan $32\\%$ de ácido. \n",
    "Si el químico dese usar el doble de la solución al $50\\%$ que la solución al $30\\%$, \n",
    "\n",
    "**¿Cuántos litros de cada solución debe usar?**\n",
    "\n",
    "\n",
    "\n"
   ]
  },
  {
   "cell_type": "markdown",
   "metadata": {},
   "source": [
    "# Solución "
   ]
  },
  {
   "cell_type": "markdown",
   "metadata": {},
   "source": [
    "Definición de variables\n",
    "\n",
    "$x$: el número de litros de la solución de tipo 1 que se necesitan.  \n",
    "\n",
    "$y$: el número de litros de la solución de la que contiene el $30\\%$ que se necesitan para la sploción del $32\\%$ acidez que requiere el químico.   \n",
    "\n",
    "$z$: el número de litros de la solución de la que contiene el $50\\%$ que se necesitan para la soloción del $32\\%$ acidez que requiere el químico. \n",
    "\n"
   ]
  },
  {
   "cell_type": "markdown",
   "metadata": {},
   "source": [
    "$$ x+y+z = 50 $$"
   ]
  },
  {
   "cell_type": "markdown",
   "metadata": {},
   "source": [
    "$$ \\frac{1}{10} x + \\frac{30}{100}y + \\frac{50}{100}x = 50 \\cdot \\frac{32}{100} $$\n",
    "\n",
    "$$ z = 2y $$"
   ]
  },
  {
   "cell_type": "markdown",
   "metadata": {},
   "source": [
    "$$ 10x + 30y + 50x = 50(32) $$"
   ]
  },
  {
   "cell_type": "code",
   "execution_count": 4,
   "metadata": {},
   "outputs": [
    {
     "data": {
      "text/plain": [
       "1600"
      ]
     },
     "execution_count": 4,
     "metadata": {},
     "output_type": "execute_result"
    }
   ],
   "source": [
    "50*32"
   ]
  },
  {
   "cell_type": "markdown",
   "metadata": {},
   "source": [
    "$$ 10x + 30y + 50x = 1600 $$"
   ]
  },
  {
   "cell_type": "code",
   "execution_count": 3,
   "metadata": {},
   "outputs": [],
   "source": [
    "from sympy import solve\n",
    "from sympy.abc import x,y,z  \n"
   ]
  },
  {
   "cell_type": "code",
   "execution_count": 5,
   "metadata": {},
   "outputs": [
    {
     "data": {
      "text/plain": [
       "[{x: 17, y: 11, z: 22}]"
      ]
     },
     "execution_count": 5,
     "metadata": {},
     "output_type": "execute_result"
    }
   ],
   "source": [
    "solve([x+y+z-50, 10*x + 30*y + 50*z-1600, z-2*y], [x,y,z], dict = True)"
   ]
  }
 ],
 "metadata": {
  "kernelspec": {
   "display_name": ".venv",
   "language": "python",
   "name": "python3"
  },
  "language_info": {
   "codemirror_mode": {
    "name": "ipython",
    "version": 3
   },
   "file_extension": ".py",
   "mimetype": "text/x-python",
   "name": "python",
   "nbconvert_exporter": "python",
   "pygments_lexer": "ipython3",
   "version": "3.10.12"
  },
  "orig_nbformat": 4
 },
 "nbformat": 4,
 "nbformat_minor": 2
}
