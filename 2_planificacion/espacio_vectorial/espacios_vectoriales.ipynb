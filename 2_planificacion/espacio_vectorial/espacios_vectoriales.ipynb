{
 "cells": [
  {
   "cell_type": "markdown",
   "metadata": {},
   "source": [
    "<table align=\"left\">\n",
    "  <td>\n",
    "    <a href=\"https://colab.research.google.com/github/marco-canas/geometria_vectorial/blob/main/espacio_vectorial/espacios_vectoriales.ipynb\" target=\"_parent\"><img src=\"https://colab.research.google.com/assets/colab-badge.svg\" alt=\"Open In Colab\"/></a>\n",
    "  </td>\n",
    "</table>"
   ]
  },
  {
   "cell_type": "markdown",
   "metadata": {},
   "source": [
    "### [Video de apoyo a la lectura interactiva y experimental de este cuaderno](https://www.youtube.com/watch?v=WXM427wShgM)"
   ]
  },
  {
   "cell_type": "markdown",
   "metadata": {},
   "source": [
    "## [programas de todos los cursos de la licenciatura en matemáticas y física](https://drive.google.com/drive/folders/1dNHbB0Vd00qWRchty1TIRNQVvi7IzI21)\n",
    "## [Vínculo al programa del curso contextualizado a la metodología de ula invertida:  ](https://github.com/marco-canas/fundamentos_de_la_aritmetica/blob/main/programa_fundamentos_aritmetica_aula_invertida.docx)\n",
    "\n",
    "* Todos los profesores debemos proponer objetivos de formación\n",
    "* Propuesta de evaluación \n",
    "* Y propuesta de metodología\n",
    "* Y propuesta de bibliografía. "
   ]
  },
  {
   "cell_type": "markdown",
   "metadata": {},
   "source": [
    "<img src = 'https://github.com/marco-canas/geometria_vectorial/blob/main/images/laura_caterine_daniela_yesi_ing_agro.jpeg?raw=true'>"
   ]
  },
  {
   "cell_type": "code",
   "execution_count": null,
   "metadata": {},
   "outputs": [],
   "source": [
    "#llamada aleatoria a participar en clase\n",
    "import pandas as pd\n",
    "import random\n",
    "\n",
    "# Cargar la lista de estudiantes desde la URL\n",
    "url = 'https://raw.githubusercontent.com/marco-canas/groups_list/main/fund_aritmetica.csv'\n",
    "estudiantes = pd.read_csv(url)\n",
    "\n",
    "# Función para llamar a un estudiante aleatoriamente y registrar su nota de seguimiento\n",
    "def llamar_estudiante():\n",
    "    estudiante_aleatorio = random.choice(estudiantes['Nombre'])\n",
    "    print(f\"Llamando a {estudiante_aleatorio}...\")\n",
    "    \n",
    "    nota_seguimiento = float(input(\"Ingrese la nota de seguimiento para el estudiante (0-5): \"))\n",
    "    \n",
    "    # Validar que la nota esté en el rango correcto (0-5)\n",
    "    if nota_seguimiento < 0 or nota_seguimiento > 5:\n",
    "        print(\"La nota debe estar en el rango de 0 a 5.\")\n",
    "        return\n",
    "    \n",
    "    # Actualizar la nota de seguimiento en el DataFrame\n",
    "    index_estudiante = estudiantes[estudiantes['Nombre'] == estudiante_aleatorio].index\n",
    "    estudiantes.at[index_estudiante, 'Seguimiento'] = nota_seguimiento\n",
    "    \n",
    "    # Guardar el DataFrame actualizado en un archivo CSV\n",
    "    estudiantes.to_csv('calificaciones_fundamentos_aritmetica.csv', index=False)\n",
    "    \n",
    "    print(f\"Nota de seguimiento registrada para {estudiante_aleatorio}: {nota_seguimiento}\")\n",
    "    \n",
    "# Llamar a la función para realizar el proceso\n",
    "llamar_estudiante()"
   ]
  },
  {
   "cell_type": "markdown",
   "metadata": {},
   "source": [
    "# De que sirve enseñar con Jupyter notebook y python  \n",
    "\n",
    "La enseñanza de la geometría vectorial y el álgebra lineal utilizando cuadernos Jupyter y el lenguaje Python puede ofrecer numerosos beneficios a la educación matemática en la universidad. Aquí hay algunas razones por las cuales esta aproximación puede ser beneficiosa:\n"
   ]
  },
  {
   "cell_type": "markdown",
   "metadata": {},
   "source": [
    "\n",
    "1. **Interactividad y Visualización**: Los cuadernos Jupyter permiten la creación de contenido interactivo y visual. Los estudiantes pueden experimentar con conceptos matemáticos al interactuar directamente con gráficos, diagramas y animaciones. Esto facilita la comprensión de conceptos abstractos, como la transformación lineal, mediante representaciones visuales dinámicas.\n"
   ]
  },
  {
   "cell_type": "markdown",
   "metadata": {},
   "source": [
    "\n",
    "2. **Aplicación Práctica**: Python es ampliamente utilizado en la ciencia y la ingeniería, incluyendo campos como la física, la informática y la ingeniería. Al enseñar álgebra lineal y geometría vectorial con Python, los estudiantes pueden ver de inmediato la aplicabilidad de estos conceptos en el mundo real. Esto hace que las matemáticas sean más relevantes y atractivas.\n"
   ]
  },
  {
   "cell_type": "markdown",
   "metadata": {},
   "source": [
    "\n",
    "3. **Programación y Resolución de Problemas**: La programación en Python es una habilidad valiosa en sí misma. Al enseñar matemáticas con Python, los estudiantes adquieren habilidades de programación que pueden aplicar en otras áreas de estudio y en sus futuras carreras. También pueden utilizar Python para resolver problemas matemáticos complejos de manera eficiente.\n"
   ]
  },
  {
   "cell_type": "markdown",
   "metadata": {},
   "source": [
    "\n",
    "4. **Colaboración y Compartir Recursos**: Los cuadernos Jupyter son fáciles de compartir y colaborar. Los estudiantes pueden trabajar en proyectos matemáticos en equipo, lo que fomenta la colaboración y el aprendizaje cooperativo. Además, los profesores pueden compartir recursos en línea, lo que facilita el acceso a materiales y ejemplos de calidad.\n"
   ]
  },
  {
   "cell_type": "markdown",
   "metadata": {},
   "source": [
    "\n",
    "5. **Personalización del Aprendizaje**: Los cuadernos Jupyter permiten a los estudiantes avanzar a su propio ritmo y explorar conceptos en profundidad. Pueden modificar el código en tiempo real y ver cómo afecta a los resultados, lo que les brinda la oportunidad de personalizar su aprendizaje y profundizar en áreas de interés particular.\n"
   ]
  },
  {
   "cell_type": "markdown",
   "metadata": {},
   "source": [
    "\n",
    "6. **Resolución de Problemas del Mundo Real**: Los problemas del mundo real a menudo se pueden modelar y resolver mediante álgebra lineal y geometría vectorial. Python facilita la resolución de problemas prácticos, como análisis de datos, procesamiento de imágenes y simulaciones, lo que prepara a los estudiantes para enfrentar desafíos del mundo real.\n"
   ]
  },
  {
   "cell_type": "markdown",
   "metadata": {},
   "source": [
    "\n",
    "En resumen, la combinación de cuadernos Jupyter y Python en la enseñanza de la geometría vectorial y el álgebra lineal puede enriquecer la experiencia de aprendizaje, hacer que las matemáticas sean más accesibles y aplicables, y preparar a los estudiantes con habilidades prácticas y valiosas para su futuro académico y profesional."
   ]
  },
  {
   "cell_type": "markdown",
   "metadata": {},
   "source": [
    "### [Video de apoyo](https://www.youtube.com/watch?v=mh-dew85EXk)"
   ]
  },
  {
   "cell_type": "markdown",
   "metadata": {},
   "source": [
    "# Determinación de cuando un conjunto con dos operaciones de $+$ y multiplicación por escalar, es o no un espacio vectorial. "
   ]
  },
  {
   "cell_type": "markdown",
   "metadata": {},
   "source": [
    "# Capítulo 4 de Grossmann Espacios vectoriales"
   ]
  },
  {
   "cell_type": "markdown",
   "metadata": {},
   "source": [
    "## Espacio vectorial real  (Página 282)\n",
    "\n"
   ]
  },
  {
   "cell_type": "markdown",
   "metadata": {},
   "source": [
    "\n",
    "Un espacio vectorial real V es un conjunto de objetos, denominados vectores, junto con\n",
    "dos operaciones binarias llamadas suma y multiplicación por un escalar y que satisfacen\n",
    "los diez axiomas enumerados a continuación"
   ]
  },
  {
   "cell_type": "markdown",
   "metadata": {},
   "source": [
    "### Axiomas de un espacio vectorial\n"
   ]
  },
  {
   "cell_type": "markdown",
   "metadata": {},
   "source": [
    "1. Si x P V y y P V, entonces x 1 y P V (cerradura bajo la suma).  \n"
   ]
  },
  {
   "cell_type": "markdown",
   "metadata": {},
   "source": [
    "ii. Para todo x, y y z en V, (x 1 y) 1 z 5 x 1 (y 1 z)\n",
    "(ley asociativa de la suma de vectores).  \n",
    "iii. Existe un vector 0 P V tal que para todo x P V, x 1 0 5 01 x 5 x\n",
    "(el 0 se llama vector cero o idéntico aditivo).\n",
    "iv. Si x P V, existe un vector 2x en P V tal que x 1 (2x) 5 0\n",
    "(2x se llama inverso aditivo de x).\n",
    "v. Si x y y están en V, entonces x 1 y 5 y 1 x\n",
    "(ley conmutativa de la suma de vectores).\n",
    "vi. Si x P V y a es un escalar, entonces ax P V\n",
    "(cerradura bajo la multiplicación por un escalar).\n",
    "vii. Si x y y están en V y a es un escalar, entonces a(x 1 y) 5 ax 1 ay\n",
    "(primera ley distributiva).  \n",
    "viii. Si x P V y a y b son escalares, entonces (a 1 b) x 5 ax 1 bx\n",
    "(segunda ley distributiva).  \n",
    "ix. Si x P V y a y b son escalares, entonces a(bx) 5 (ab)x\n",
    "(ley asociativa de la multiplicación por escalares).\n",
    "x. Para cada vector x P V, 1x 5 x"
   ]
  },
  {
   "cell_type": "markdown",
   "metadata": {},
   "source": [
    "# Página 324 Determinación de dependencia e independencia lineal de vectores"
   ]
  },
  {
   "cell_type": "markdown",
   "metadata": {},
   "source": [
    "Ejercicio 12..\n",
    "\n",
    "$$ \\left( \\begin{matrix} -3 \\\\ 4 \\\\ 2 \\end{matrix} \\right); \\left( \\begin{matrix} 7 \\\\ -1 \\\\ 3 \\end{matrix} \\right); \\left( \\begin{matrix} 1 \\\\ 1 \\\\ 8 \\end{matrix} \\right) $$"
   ]
  },
  {
   "cell_type": "markdown",
   "metadata": {},
   "source": [
    "## Solución"
   ]
  },
  {
   "cell_type": "markdown",
   "metadata": {},
   "source": [
    "Para determinar si un conjunto de vectores de $\\mathbb{R}^{n}$ son LI o LD, basta utilizar el algoritmo de Gauss, es decir, solamente escalonar la matriz deter minada por estos vectores: \n",
    "\n"
   ]
  },
  {
   "cell_type": "code",
   "execution_count": 3,
   "metadata": {},
   "outputs": [
    {
     "name": "stdout",
     "output_type": "stream",
     "text": [
      "Rango de la Matriz escalonada:\n",
      "3\n",
      "Los vectores dados son LI\n"
     ]
    }
   ],
   "source": [
    "import numpy as np\n",
    "\n",
    "def ingresar_vectores_y_determinar_rango_de_la_matriz_determinada_por_ellos():\n",
    "    # Pedir al usuario el número de vectores y la dimensión n\n",
    "    num_vectores = int(input(\"Ingrese el número de vectores: \"))\n",
    "    n = int(input(\"Ingrese la dimensión n de los vectores: \"))\n",
    "\n",
    "    # Inicializar una matriz vacía para almacenar los vectores\n",
    "    matriz = np.zeros((n, num_vectores))\n",
    "\n",
    "    # Pedir al usuario ingresar los vectores uno por uno\n",
    "    for i in range(num_vectores):\n",
    "        vector = input(f\"Ingrese el vector {i + 1} (separado por comas): \").strip().split(',')\n",
    "        \n",
    "        # Convertir los valores ingresados en números y almacenarlos en la matriz\n",
    "        for j, valor in enumerate(vector):\n",
    "            matriz[j, i] = float(valor)\n",
    "\n",
    "    # Realizar la escalonación de la matriz\n",
    "    rango_matriz_escalona = np.linalg.matrix_rank(matriz)\n",
    "    \n",
    "    # Imprimir la matriz escalonada\n",
    "    print(\"Rango de la Matriz escalonada:\")\n",
    "    print(rango_matriz_escalona)\n",
    "    if rango_matriz_escalona==num_vectores:\n",
    "        print('Los vectores dados son LI')\n",
    "    else:\n",
    "        print('Los vectores dados son LD')    \n",
    "\n",
    "# Llamar a la función\n",
    "ingresar_vectores_y_determinar_rango_de_la_matriz_determinada_por_ellos()\n"
   ]
  },
  {
   "cell_type": "markdown",
   "metadata": {},
   "source": [
    "# Visualización en R3 de los tres vectores "
   ]
  },
  {
   "cell_type": "code",
   "execution_count": 6,
   "metadata": {},
   "outputs": [
    {
     "data": {
      "image/png": "[encoded data removed]",
      "text/plain": [
       "<Figure size 640x480 with 1 Axes>"
      ]
     },
     "metadata": {},
     "output_type": "display_data"
    }
   ],
   "source": [
    "import matplotlib.pyplot as plt\n",
    "from mpl_toolkits.mplot3d import Axes3D\n",
    "import numpy as np\n",
    "\n",
    "# Definir tres vectores en el espacio tridimensional\n",
    "vector1 = np.array([-3, 4, 2])\n",
    "vector2 = np.array([7, -1, 3])\n",
    "vector3 = np.array([1, 1, 8])\n",
    "\n",
    "# Crear una figura 3D\n",
    "fig = plt.figure()\n",
    "ax = fig.add_subplot(111, projection='3d')\n",
    "\n",
    "# Origen de los vectores\n",
    "origin = np.zeros(3)\n",
    "\n",
    "# Dibujar los vectores desde el origen\n",
    "ax.quiver(*origin, *vector1, color='r', label='Vector 1')\n",
    "ax.quiver(*origin, *vector2, color='g', label='Vector 2')\n",
    "ax.quiver(*origin, *vector3, color='b', label='Vector 3')\n",
    "\n",
    "# Etiquetar los ejes\n",
    "ax.set_xlabel('Eje X')\n",
    "ax.set_ylabel('Eje Y')\n",
    "ax.set_zlabel('Eje Z')\n",
    "\n",
    "# Establecer límites de los ejes\n",
    "ax.set_xlim([0, 10])\n",
    "ax.set_ylim([0, 10])\n",
    "ax.set_zlim([0,10])\n",
    "\n",
    "# Mostrar la leyenda\n",
    "ax.legend()\n",
    "\n",
    "# Mostrar el gráfico 3D\n",
    "plt.show()\n"
   ]
  },
  {
   "cell_type": "code",
   "execution_count": null,
   "metadata": {},
   "outputs": [],
   "source": [
    "import numpy.linalg as LA\n",
    "\n",
    "import numpy as np "
   ]
  },
  {
   "cell_type": "code",
   "execution_count": null,
   "metadata": {},
   "outputs": [],
   "source": [
    "A = np.array([[-3, 7, 1], [4, -1, 1], [1, 1, 8]])"
   ]
  },
  {
   "cell_type": "code",
   "execution_count": null,
   "metadata": {},
   "outputs": [],
   "source": [
    "A "
   ]
  },
  {
   "cell_type": "code",
   "execution_count": null,
   "metadata": {},
   "outputs": [],
   "source": [
    "np.linalg.inv(A)  "
   ]
  },
  {
   "cell_type": "markdown",
   "metadata": {},
   "source": [
    "Entonces, los tres vectores dados son LI. "
   ]
  },
  {
   "cell_type": "code",
   "execution_count": null,
   "metadata": {},
   "outputs": [],
   "source": [
    "np.linalg.det(A)"
   ]
  },
  {
   "cell_type": "markdown",
   "metadata": {},
   "source": [
    "# Lista de funciones para algebra lineal \n",
    "\n",
    "1. np.numpy.linalg.inv(): te calcula la inversa de la matriz. "
   ]
  },
  {
   "cell_type": "code",
   "execution_count": null,
   "metadata": {},
   "outputs": [],
   "source": [
    "cadena = \"   Hola, mundo!   \"\n",
    "cadena_limpia = cadena.strip()\n",
    "print(cadena_limpia)\n"
   ]
  },
  {
   "cell_type": "code",
   "execution_count": null,
   "metadata": {},
   "outputs": [],
   "source": [
    "import networkx as nx\n",
    "import matplotlib.pyplot as plt\n",
    "\n",
    "# Crear el grafo para el mapa conceptual\n",
    "G = nx.DiGraph()\n",
    "\n",
    "# Agregar nodos al grafo (clases de cuadriláteros)\n",
    "G.add_node(\"Cuadrilátero\")\n",
    "G.add_node(\"Trapecio\", parent=\"Cuadrilátero\")\n",
    "G.add_node(\"Paralelogramo\", parent=\"Cuadrilátero\")\n",
    "G.add_node(\"Rectángulo\", parent=\"Paralelogramo\")\n",
    "G.add_node(\"Romboide\", parent=\"Paralelogramo\")\n",
    "G.add_node(\"Rombo\", parent=\"Romboide\")\n",
    "G.add_node(\"Cuadrado\", parent=\"Rectángulo\")\n",
    "\n",
    "# Agregar relaciones entre nodos\n",
    "G.add_edge(\"Cuadrilátero\", \"Trapecio\")\n",
    "G.add_edge(\"Cuadrilátero\", \"Paralelogramo\")\n",
    "G.add_edge(\"Paralelogramo\", \"Rectángulo\")\n",
    "G.add_edge(\"Paralelogramo\", \"Romboide\")\n",
    "G.add_edge(\"Romboide\", \"Rombo\")\n",
    "G.add_edge(\"Rectángulo\", \"Cuadrado\")\n",
    "\n",
    "# Dibujar el mapa conceptual\n",
    "pos = nx.spring_layout(G, seed=42)  # Posiciones de los nodos\n",
    "nx.draw(G, pos, with_labels=True, node_size=3000, node_color=\"skyblue\", font_size=10, font_color=\"black\", font_weight=\"bold\", arrowsize=20)\n",
    "plt.title(\"Clasificación de Cuadriláteros\")\n",
    "plt.show()\n"
   ]
  },
  {
   "cell_type": "markdown",
   "metadata": {},
   "source": [
    "## Referentes\n",
    "\n",
    "[Cuaderno de álgebra lineal de Aurelien Geron: github.com/ageron](https://github.com/ageron/handson-ml3/blob/main/math_linear_algebra.ipynb)"
   ]
  },
  {
   "cell_type": "markdown",
   "metadata": {},
   "source": []
  }
 ],
 "metadata": {
  "kernelspec": {
   "display_name": ".venv",
   "language": "python",
   "name": "python3"
  },
  "language_info": {
   "codemirror_mode": {
    "name": "ipython",
    "version": 3
   },
   "file_extension": ".py",
   "mimetype": "text/x-python",
   "name": "python",
   "nbconvert_exporter": "python",
   "pygments_lexer": "ipython3",
   "version": "3.10.12"
  },
  "orig_nbformat": 4
 },
 "nbformat": 4,
 "nbformat_minor": 2
}
