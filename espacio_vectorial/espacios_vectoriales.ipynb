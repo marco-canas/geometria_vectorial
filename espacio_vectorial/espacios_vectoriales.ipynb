{
 "cells": [
  {
   "cell_type": "markdown",
   "metadata": {},
   "source": [
    "<table align=\"left\">\n",
    "  <td>\n",
    "    <a href=\"https://colab.research.google.com/github/marco-canas/4_didactica_aritmetica/blob/main/modelo_general_clase_aula_invertida.ipynb\" target=\"_parent\"><img src=\"https://colab.research.google.com/assets/colab-badge.svg\" alt=\"Open In Colab\"/></a>\n",
    "  </td>\n",
    "</table>"
   ]
  },
  {
   "cell_type": "markdown",
   "metadata": {},
   "source": [
    "### [Video de apoyo a la lectura interactiva y experimental de este cuaderno](https://www.youtube.com/watch?v=WXM427wShgM)"
   ]
  },
  {
   "cell_type": "markdown",
   "metadata": {},
   "source": [
    "<img src = 'https://github.com/marco-canas/geometria_vectorial/blob/main/images/laura_caterine_daniela_yesi_ing_agro.jpeg?raw=true'>"
   ]
  },
  {
   "cell_type": "markdown",
   "metadata": {},
   "source": [
    "# Determinación de cuando un conjunto con dos operaciones de $+$ y multiplicación por escalar, es o no un espacio vectorial. "
   ]
  },
  {
   "cell_type": "markdown",
   "metadata": {},
   "source": [
    "# Capítulo 4 de Grossmann Espacios vectoriales"
   ]
  },
  {
   "cell_type": "markdown",
   "metadata": {},
   "source": [
    "## Espacio vectorial real  (Página 282)\n",
    "\n"
   ]
  },
  {
   "cell_type": "markdown",
   "metadata": {},
   "source": [
    "\n",
    "Un espacio vectorial real V es un conjunto de objetos, denominados vectores, junto con\n",
    "dos operaciones binarias llamadas suma y multiplicación por un escalar y que satisfacen\n",
    "los diez axiomas enumerados a continuación"
   ]
  },
  {
   "cell_type": "markdown",
   "metadata": {},
   "source": [
    "### Axiomas de un espacio vectorial\n"
   ]
  },
  {
   "cell_type": "markdown",
   "metadata": {},
   "source": [
    "i. Si x P V y y P V, entonces x 1 y P V (cerradura bajo la suma).  \n",
    "ii. Para todo x, y y z en V, (x 1 y) 1 z 5 x 1 (y 1 z)\n",
    "(ley asociativa de la suma de vectores).  \n",
    "iii. Existe un vector 0 P V tal que para todo x P V, x 1 0 5 01 x 5 x\n",
    "(el 0 se llama vector cero o idéntico aditivo).\n",
    "iv. Si x P V, existe un vector 2x en P V tal que x 1 (2x) 5 0\n",
    "(2x se llama inverso aditivo de x).\n",
    "v. Si x y y están en V, entonces x 1 y 5 y 1 x\n",
    "(ley conmutativa de la suma de vectores).\n",
    "vi. Si x P V y a es un escalar, entonces ax P V\n",
    "(cerradura bajo la multiplicación por un escalar).\n",
    "vii. Si x y y están en V y a es un escalar, entonces a(x 1 y) 5 ax 1 ay\n",
    "(primera ley distributiva).  \n",
    "viii. Si x P V y a y b son escalares, entonces (a 1 b) x 5 ax 1 bx\n",
    "(segunda ley distributiva).  \n",
    "ix. Si x P V y a y b son escalares, entonces a(bx) 5 (ab)x\n",
    "(ley asociativa de la multiplicación por escalares).\n",
    "x. Para cada vector x P V, 1x 5 x"
   ]
  },
  {
   "cell_type": "markdown",
   "metadata": {},
   "source": [
    "# Página 324 Determinación de dependencia e independencia lineal de vectores"
   ]
  },
  {
   "cell_type": "markdown",
   "metadata": {},
   "source": [
    "Ejercicio 12..\n",
    "\n",
    "$$ \\left( \\begin{matrix} -3 \\\\ 4 \\\\ 2 \\end{matrix} \\right); \\left( \\begin{matrix} 7 \\\\ -1 \\\\ 3 \\end{matrix} \\right); \\left( \\begin{matrix} 1 \\\\ 1 \\\\ 8 \\end{matrix} \\right) $$"
   ]
  },
  {
   "cell_type": "code",
   "execution_count": 3,
   "metadata": {},
   "outputs": [],
   "source": [
    "import numpy.linalg as LA\n",
    "\n",
    "import numpy as np "
   ]
  },
  {
   "cell_type": "code",
   "execution_count": 4,
   "metadata": {},
   "outputs": [],
   "source": [
    "A = np.array([[-3, 7, 1], [4, -1, 1], [2, 3, 8]])"
   ]
  },
  {
   "cell_type": "code",
   "execution_count": 5,
   "metadata": {},
   "outputs": [
    {
     "data": {
      "text/plain": [
       "array([[-3,  7,  1],\n",
       "       [ 4, -1,  1],\n",
       "       [ 2,  3,  8]])"
      ]
     },
     "execution_count": 5,
     "metadata": {},
     "output_type": "execute_result"
    }
   ],
   "source": [
    "A "
   ]
  },
  {
   "cell_type": "code",
   "execution_count": 9,
   "metadata": {},
   "outputs": [
    {
     "data": {
      "text/plain": [
       "array([[ 0.06748466,  0.32515337, -0.04907975],\n",
       "       [ 0.18404908,  0.1595092 , -0.04294479],\n",
       "       [-0.08588957, -0.14110429,  0.15337423]])"
      ]
     },
     "execution_count": 9,
     "metadata": {},
     "output_type": "execute_result"
    }
   ],
   "source": [
    "np.linalg.inv(A)  "
   ]
  },
  {
   "cell_type": "markdown",
   "metadata": {},
   "source": [
    "Entonces, los tres vectores dados son LI. "
   ]
  },
  {
   "cell_type": "markdown",
   "metadata": {},
   "source": [
    "# Lista de funciones para algebra lineal \n",
    "\n",
    "1. np.numpy.linalg.inv(): te calcula la inversa de la matriz. "
   ]
  },
  {
   "cell_type": "code",
   "execution_count": null,
   "metadata": {},
   "outputs": [],
   "source": []
  },
  {
   "cell_type": "markdown",
   "metadata": {},
   "source": [
    "## Referentes\n",
    "\n",
    "[Cuaderno de álgebra lineal de Aurelien Geron: github.com/ageron](https://github.com/ageron/handson-ml3/blob/main/math_linear_algebra.ipynb)"
   ]
  },
  {
   "cell_type": "markdown",
   "metadata": {},
   "source": []
  }
 ],
 "metadata": {
  "kernelspec": {
   "display_name": ".venv",
   "language": "python",
   "name": "python3"
  },
  "language_info": {
   "codemirror_mode": {
    "name": "ipython",
    "version": 3
   },
   "file_extension": ".py",
   "mimetype": "text/x-python",
   "name": "python",
   "nbconvert_exporter": "python",
   "pygments_lexer": "ipython3",
   "version": "3.10.12"
  },
  "orig_nbformat": 4
 },
 "nbformat": 4,
 "nbformat_minor": 2
}
