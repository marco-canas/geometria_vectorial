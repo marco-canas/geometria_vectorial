{
 "cells": [
  {
   "cell_type": "markdown",
   "id": "b40e9172",
   "metadata": {
    "slideshow": {
     "slide_type": "slide"
    }
   },
   "source": [
    "<table align=\"left\">\n",
    "  <td>\n",
    "    <a href=\"https://colab.research.google.com/github/marco-canas/geometria_vectorial/blob/main/cuadrilatero.ipynb\" target=\"_parent\"><img src=\"https://colab.research.google.com/assets/colab-badge.svg\" alt=\"Open In Colab\"/></a>\n",
    "  </td>\n",
    "</table>"
   ]
  },
  {
   "cell_type": "markdown",
   "id": "d2a098b3",
   "metadata": {
    "slideshow": {
     "slide_type": "slide"
    }
   },
   "source": [
    "# Problema acerca de propiedades de los cuadriláteros"
   ]
  },
  {
   "cell_type": "markdown",
   "id": "c6de64af",
   "metadata": {
    "slideshow": {
     "slide_type": "slide"
    }
   },
   "source": [
    "## Enunciación del problema "
   ]
  },
  {
   "cell_type": "markdown",
   "id": "4e8aae04",
   "metadata": {
    "slideshow": {
     "slide_type": "slide"
    }
   },
   "source": [
    "Sean $A, B, C,$ y $D$ el paralelogramo con vértices $A(0,0), B(4,0), C(5,2), D(1,2)$. Demuestre que el cuadrilátero formado al unir los puntos medios de los lados del paralelogramo $ABCD$, es también un paralelogramo."
   ]
  },
  {
   "cell_type": "markdown",
   "id": "ae3074fa",
   "metadata": {
    "slideshow": {
     "slide_type": "slide"
    }
   },
   "source": [
    "# Representación gráfica del problema "
   ]
  },
  {
   "cell_type": "code",
   "execution_count": 23,
   "id": "4a1fccec",
   "metadata": {
    "slideshow": {
     "slide_type": "slide"
    }
   },
   "outputs": [
    {
     "data": {
      "image/png": "[encoded data removed]",
      "text/plain": [
       "<Figure size 432x288 with 1 Axes>"
      ]
     },
     "metadata": {
      "needs_background": "light"
     },
     "output_type": "display_data"
    }
   ],
   "source": [
    "import numpy as np \n",
    "import matplotlib.pyplot as plt \n",
    "\n",
    "plt.plot([0,4,5,1,0], [0, 0, 2,2,0])\n",
    "plt.text(0, -0.2, \"A\", color=\"r\", fontsize=18)\n",
    "plt.text(4, -0.2, \"B\", color=\"r\", fontsize=18)\n",
    "plt.text(5, 2, \"C\", color=\"r\", fontsize=18)\n",
    "plt.text(1, 2, \"D\", color=\"r\", fontsize=18)\n",
    "\n",
    "# Puntos medios\n",
    "\n",
    "plt.scatter([2],[0], color = 'green')\n",
    "plt.text(2,-0.2, 'M', fontsize = 18, color = 'green')\n",
    "\n",
    "plt.scatter([4.5],[1], color = 'green')\n",
    "plt.text(4.6,1, 'N', fontsize = 18, color = 'green')\n",
    "\n",
    "plt.scatter([3],[2], color = 'green')\n",
    "plt.text(3,2, 'P', fontsize = 18, color = 'green')\n",
    "\n",
    "plt.scatter([0.5],[1], color ='green')\n",
    "plt.text(0.7,0.9, 'Q', fontsize = 18, color = 'green')\n",
    "\n",
    "\n",
    "#Trazo del paralelogramo nuevo\n",
    "\n",
    "plt.plot([2,4.5, 3, 0.5, 2], [0, 1, 2, 1, 0], 'g--')\n",
    "plt.axis([-1,6,-1,3])\n",
    "plt.grid(alpha = 0.3)\n",
    "plt.savefig('une_puntos_medios_y_obtendras_un_paralelogramo.png')\n",
    "\n",
    "plt.show() "
   ]
  },
  {
   "cell_type": "markdown",
   "id": "2b3cad55",
   "metadata": {
    "slideshow": {
     "slide_type": "slide"
    }
   },
   "source": [
    "Sean M, N, P, Q los puntos medios de los lados $AB$, $BC$, $CD$ y $DA$ del paralogramo $ABCD$, respectivamente. "
   ]
  },
  {
   "cell_type": "markdown",
   "id": "9ec8ecb2",
   "metadata": {
    "slideshow": {
     "slide_type": "slide"
    }
   },
   "source": [
    "Mostremos que los vectores $QP$y $MN$ son equipotentes; y que los vectores $QM$y $PN$ son equipotentes. "
   ]
  },
  {
   "cell_type": "markdown",
   "id": "2f5e988c",
   "metadata": {
    "slideshow": {
     "slide_type": "slide"
    }
   },
   "source": [
    "$$ QP = P - Q = \\left( \\begin{matrix} 3 \\\\ 2 \\end{matrix}  \\right) - \\left( \\begin{matrix}1/2 \\\\ 1 \\end{matrix} \\right) =  \\left( \\begin{matrix}5/2 \\\\ 1 \\end{matrix} \\right)  $$"
   ]
  },
  {
   "cell_type": "markdown",
   "id": "df7e502d",
   "metadata": {
    "slideshow": {
     "slide_type": "slide"
    }
   },
   "source": [
    "$$ MN = N- M =  \\left( \\begin{matrix}9/2 \\\\ 1 \\end{matrix} \\right) -  \\left( \\begin{matrix}2 \\\\ 0 \\end{matrix} \\right) = QP $$"
   ]
  },
  {
   "cell_type": "markdown",
   "id": "dafc2798",
   "metadata": {
    "slideshow": {
     "slide_type": "slide"
    }
   },
   "source": [
    "Por tanto, hemos mostrado que los vectores opuestos MN y QP son equipotentes. "
   ]
  },
  {
   "cell_type": "markdown",
   "id": "dd2cdb61",
   "metadata": {
    "slideshow": {
     "slide_type": "slide"
    }
   },
   "source": [
    "Y razonando de manera análoga podemos mostrar que los vectores $QM$y $PN$ son también equipotentes. "
   ]
  },
  {
   "cell_type": "code",
   "execution_count": null,
   "id": "5dafe0dd",
   "metadata": {},
   "outputs": [],
   "source": []
  },
  {
   "cell_type": "code",
   "execution_count": null,
   "id": "70a49a1c",
   "metadata": {},
   "outputs": [],
   "source": []
  },
  {
   "cell_type": "code",
   "execution_count": null,
   "id": "f3e62d6e",
   "metadata": {},
   "outputs": [],
   "source": []
  },
  {
   "cell_type": "code",
   "execution_count": null,
   "id": "7d191cde",
   "metadata": {},
   "outputs": [],
   "source": []
  },
  {
   "cell_type": "code",
   "execution_count": null,
   "id": "73de68ac",
   "metadata": {},
   "outputs": [],
   "source": []
  },
  {
   "cell_type": "code",
   "execution_count": null,
   "id": "39117025",
   "metadata": {},
   "outputs": [],
   "source": []
  },
  {
   "cell_type": "code",
   "execution_count": null,
   "id": "cb8814e5",
   "metadata": {},
   "outputs": [],
   "source": []
  },
  {
   "cell_type": "code",
   "execution_count": null,
   "id": "c3f9591a",
   "metadata": {},
   "outputs": [],
   "source": []
  },
  {
   "cell_type": "code",
   "execution_count": null,
   "id": "c1400116",
   "metadata": {},
   "outputs": [],
   "source": []
  },
  {
   "cell_type": "code",
   "execution_count": null,
   "id": "485b24b3",
   "metadata": {},
   "outputs": [],
   "source": []
  },
  {
   "cell_type": "markdown",
   "id": "d42f48c2",
   "metadata": {},
   "source": [
    "## Referentes\n",
    "\n",
    "* Cuaderno de Geron sobre álgebra lineal para ciencia de datos: https://github.com/ageron/handson-ml3/blob/main/math_linear_algebra.ipynb"
   ]
  },
  {
   "cell_type": "code",
   "execution_count": null,
   "id": "538f18a3",
   "metadata": {},
   "outputs": [],
   "source": []
  }
 ],
 "metadata": {
  "celltoolbar": "Slideshow",
  "kernelspec": {
   "display_name": "Python 3 (ipykernel)",
   "language": "python",
   "name": "python3"
  },
  "language_info": {
   "codemirror_mode": {
    "name": "ipython",
    "version": 3
   },
   "file_extension": ".py",
   "mimetype": "text/x-python",
   "name": "python",
   "nbconvert_exporter": "python",
   "pygments_lexer": "ipython3",
   "version": "3.9.12"
  }
 },
 "nbformat": 4,
 "nbformat_minor": 5
}
