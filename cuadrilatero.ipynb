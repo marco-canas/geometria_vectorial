{
 "cells": [
  {
   "cell_type": "markdown",
   "id": "b0400edb",
   "metadata": {
    "slideshow": {
     "slide_type": "slide"
    }
   },
   "source": [
    "# Problema acerca de propiedades de los cuadriláteros"
   ]
  },
  {
   "cell_type": "markdown",
   "id": "4d8344ae",
   "metadata": {
    "slideshow": {
     "slide_type": "slide"
    }
   },
   "source": [
    "## Enunciación del problema "
   ]
  },
  {
   "cell_type": "markdown",
   "id": "7a71a51c",
   "metadata": {
    "slideshow": {
     "slide_type": "slide"
    }
   },
   "source": [
    "Sean $A, B, C,$ y $D$ el paralelogramo con vértices $A(0,0), B(4,0), C(5,2), D(1,2)$. Demuestre que el cuadrilátero formado al unir los puntos medios de los lados del paralelogramo $ABCD$, es también un paralelogramo."
   ]
  },
  {
   "cell_type": "markdown",
   "id": "2c778f17",
   "metadata": {
    "slideshow": {
     "slide_type": "slide"
    }
   },
   "source": [
    "# Representación gráfica del problema "
   ]
  },
  {
   "cell_type": "code",
   "execution_count": 17,
   "id": "e79492fe",
   "metadata": {
    "slideshow": {
     "slide_type": "slide"
    }
   },
   "outputs": [
    {
     "data": {
      "image/png": "[encoded data removed]",
      "text/plain": [
       "<Figure size 432x288 with 1 Axes>"
      ]
     },
     "metadata": {
      "needs_background": "light"
     },
     "output_type": "display_data"
    }
   ],
   "source": [
    "import numpy as np \n",
    "import matplotlib.pyplot as plt \n",
    "\n",
    "plt.plot([0,4,5,1,0], [0, 0, 2,2,0])\n",
    "plt.text(0, -0.2, \"A\", color=\"r\", fontsize=18)\n",
    "plt.text(4, -0.2, \"B\", color=\"r\", fontsize=18)\n",
    "plt.text(5, 2, \"C\", color=\"r\", fontsize=18)\n",
    "plt.text(1, 2, \"D\", color=\"r\", fontsize=18)\n",
    "\n",
    "# Puntos medios\n",
    "\n",
    "plt.scatter([2],[0], color = 'green')\n",
    "plt.text(2,-0.2, 'M', fontsize = 18, color = 'green')\n",
    "\n",
    "plt.scatter([4.5],[1], color = 'green')\n",
    "plt.text(4.6,1, 'N', fontsize = 18, color = 'green')\n",
    "\n",
    "plt.scatter([3],[2], color = 'green')\n",
    "plt.text(3,2, 'P', fontsize = 18, color = 'green')\n",
    "\n",
    "plt.scatter([0.5],[1], color ='green')\n",
    "plt.text(0.5,1, 'Q', fontsize = 18, color = 'green')\n",
    "\n",
    "\n",
    "#Trazo del paralelogramo nuevo\n",
    "\n",
    "plt.plot([2,4.5, 3, 0.5, 2], [0, 1, 2, 1, 0], 'g--')\n",
    "\n",
    "plt.savefig('une_puntos_medios_y_obtendras_un_paralelogramo.png')\n",
    "\n",
    "plt.show() "
   ]
  },
  {
   "cell_type": "markdown",
   "id": "6ad91b44",
   "metadata": {
    "slideshow": {
     "slide_type": "slide"
    }
   },
   "source": [
    "Sean M, N, P, Q los puntos medios de los lados $AB$, $BC$, $CD$ y $DA$ del paralogramo $ABCD$, respectivamente. "
   ]
  },
  {
   "cell_type": "markdown",
   "id": "7af6289f",
   "metadata": {
    "slideshow": {
     "slide_type": "slide"
    }
   },
   "source": [
    "Mostremos que los vectores $QP$y $MN$ son equipotentes; y que los vectores $QM$y $PN$ son equipotentes. "
   ]
  },
  {
   "cell_type": "markdown",
   "id": "9225bfaf",
   "metadata": {
    "slideshow": {
     "slide_type": "slide"
    }
   },
   "source": [
    "$$ QP = P - Q = \\left( \\begin{matrix} 3 \\\\ 2 \\end{matrix}  \\right) - \\left( \\begin{matrix}1/2 \\\\ 1 \\end{matrix} \\right) =  \\left( \\begin{matrix}5/2 \\\\ 1 \\end{matrix} \\right)  $$"
   ]
  },
  {
   "cell_type": "markdown",
   "id": "49f32b1b",
   "metadata": {
    "slideshow": {
     "slide_type": "slide"
    }
   },
   "source": [
    "$$ MN = N- M =  \\left( \\begin{matrix}9/2 \\\\ 1 \\end{matrix} \\right) -  \\left( \\begin{matrix}2 \\\\ 0 \\end{matrix} \\right) = QP $$"
   ]
  },
  {
   "cell_type": "markdown",
   "id": "56098ffe",
   "metadata": {
    "slideshow": {
     "slide_type": "slide"
    }
   },
   "source": [
    "Por tanto, hemos mostrado que los vectores opuestos MN y QP son equipotentes. "
   ]
  },
  {
   "cell_type": "markdown",
   "id": "2c25198c",
   "metadata": {
    "slideshow": {
     "slide_type": "slide"
    }
   },
   "source": [
    "Y razonando de manera análoga podemos mostrar que los vectores $QM$y $PN$ son también equipotentes. "
   ]
  },
  {
   "cell_type": "code",
   "execution_count": null,
   "id": "5147f995",
   "metadata": {},
   "outputs": [],
   "source": []
  },
  {
   "cell_type": "code",
   "execution_count": null,
   "id": "842f656d",
   "metadata": {},
   "outputs": [],
   "source": []
  },
  {
   "cell_type": "code",
   "execution_count": null,
   "id": "a6f0d7bb",
   "metadata": {},
   "outputs": [],
   "source": []
  },
  {
   "cell_type": "code",
   "execution_count": null,
   "id": "647d241c",
   "metadata": {},
   "outputs": [],
   "source": []
  },
  {
   "cell_type": "code",
   "execution_count": null,
   "id": "897717d0",
   "metadata": {},
   "outputs": [],
   "source": []
  },
  {
   "cell_type": "code",
   "execution_count": null,
   "id": "517f1aa4",
   "metadata": {},
   "outputs": [],
   "source": []
  },
  {
   "cell_type": "code",
   "execution_count": null,
   "id": "bfb0b14e",
   "metadata": {},
   "outputs": [],
   "source": []
  },
  {
   "cell_type": "code",
   "execution_count": null,
   "id": "52a02618",
   "metadata": {},
   "outputs": [],
   "source": []
  },
  {
   "cell_type": "code",
   "execution_count": null,
   "id": "a6f9a4b5",
   "metadata": {},
   "outputs": [],
   "source": []
  },
  {
   "cell_type": "code",
   "execution_count": null,
   "id": "e7731a69",
   "metadata": {},
   "outputs": [],
   "source": []
  },
  {
   "cell_type": "code",
   "execution_count": null,
   "id": "9f3ce66f",
   "metadata": {},
   "outputs": [],
   "source": []
  }
 ],
 "metadata": {
  "celltoolbar": "Slideshow",
  "kernelspec": {
   "display_name": "Python 3 (ipykernel)",
   "language": "python",
   "name": "python3"
  },
  "language_info": {
   "codemirror_mode": {
    "name": "ipython",
    "version": 3
   },
   "file_extension": ".py",
   "mimetype": "text/x-python",
   "name": "python",
   "nbconvert_exporter": "python",
   "pygments_lexer": "ipython3",
   "version": "3.9.12"
  }
 },
 "nbformat": 4,
 "nbformat_minor": 5
}
